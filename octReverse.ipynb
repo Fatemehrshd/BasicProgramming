{
  "nbformat": 4,
  "nbformat_minor": 0,
  "metadata": {
    "colab": {
      "provenance": [],
      "authorship_tag": "ABX9TyMhbqcTPGi1YmtyXx+Bm7Ha",
      "include_colab_link": true
    },
    "kernelspec": {
      "name": "python3",
      "display_name": "Python 3"
    },
    "language_info": {
      "name": "python"
    }
  },
  "cells": [
    {
      "cell_type": "markdown",
      "metadata": {
        "id": "view-in-github",
        "colab_type": "text"
      },
      "source": [
        "<a href=\"https://colab.research.google.com/github/Fatemehrshd/BasicProgramming/blob/main/octReverse.ipynb\" target=\"_parent\"><img src=\"https://colab.research.google.com/assets/colab-badge.svg\" alt=\"Open In Colab\"/></a>"
      ]
    },
    {
      "cell_type": "code",
      "execution_count": 3,
      "metadata": {
        "colab": {
          "base_uri": "https://localhost:8080/"
        },
        "id": "IDALi7nn96FB",
        "outputId": "6ffbe18e-3c02-4dbc-dc81-252b884b1d38"
      },
      "outputs": [
        {
          "output_type": "stream",
          "name": "stdout",
          "text": [
            "50\n",
            "0\n",
            "2\n",
            "Reversed octal number of 50 is:  26\n"
          ]
        }
      ],
      "source": [
        "def octReverse(a):\n",
        "  r = 0\n",
        "  while a > 0:\n",
        "    r = r * 10 + a % 8\n",
        "    a //= 8\n",
        "  return r\n",
        "\n",
        "n = int(input())\n",
        "print(\"Reversed octal number of %i is: \" %n, octReverse(n))"
      ]
    },
    {
      "cell_type": "code",
      "source": [],
      "metadata": {
        "id": "gpASR-kZ-_an"
      },
      "execution_count": null,
      "outputs": []
    }
  ]
}