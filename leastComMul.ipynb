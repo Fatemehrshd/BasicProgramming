{
  "nbformat": 4,
  "nbformat_minor": 0,
  "metadata": {
    "colab": {
      "provenance": [],
      "authorship_tag": "ABX9TyNNu2l79wbF7KIoNx3d2MeJ",
      "include_colab_link": true
    },
    "kernelspec": {
      "name": "python3",
      "display_name": "Python 3"
    },
    "language_info": {
      "name": "python"
    }
  },
  "cells": [
    {
      "cell_type": "markdown",
      "metadata": {
        "id": "view-in-github",
        "colab_type": "text"
      },
      "source": [
        "<a href=\"https://colab.research.google.com/github/Fatemehrshd/BasicProgramming/blob/main/leastComMul.ipynb\" target=\"_parent\"><img src=\"https://colab.research.google.com/assets/colab-badge.svg\" alt=\"Open In Colab\"/></a>"
      ]
    },
    {
      "cell_type": "code",
      "execution_count": 6,
      "metadata": {
        "colab": {
          "base_uri": "https://localhost:8080/"
        },
        "id": "-Nuf3-b_7DGQ",
        "outputId": "179323df-1c90-4641-a09b-5aced856f5d6"
      },
      "outputs": [
        {
          "output_type": "stream",
          "name": "stdout",
          "text": [
            "6 9\n",
            "18\n"
          ]
        }
      ],
      "source": [
        "def leastComMul(a, b):\n",
        "  c = a * b\n",
        "  bmm = 0\n",
        "  list_a = []\n",
        "  list_b = []\n",
        "  for i in range(2, a):\n",
        "    if a%i == 0:\n",
        "      list_a.append(i)\n",
        "  for i in range(2, b):\n",
        "    if b%i == 0:\n",
        "      list_b.append(i)\n",
        "\n",
        "\n",
        "  for el1 in list_a:\n",
        "    for el2 in list_b:\n",
        "      if el1 == el2:\n",
        "        bmm = el1\n",
        "        break\n",
        "  return c // bmm\n",
        "\n",
        "num1, num2 = map(int, input().split())\n",
        "print(leastComMul(num1, num2))"
      ]
    }
  ]
}