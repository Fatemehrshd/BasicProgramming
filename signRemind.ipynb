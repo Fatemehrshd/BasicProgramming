{
  "nbformat": 4,
  "nbformat_minor": 0,
  "metadata": {
    "colab": {
      "provenance": [],
      "authorship_tag": "ABX9TyOLeNS5EFqhMdagZf6Wwr8V",
      "include_colab_link": true
    },
    "kernelspec": {
      "name": "python3",
      "display_name": "Python 3"
    },
    "language_info": {
      "name": "python"
    }
  },
  "cells": [
    {
      "cell_type": "markdown",
      "metadata": {
        "id": "view-in-github",
        "colab_type": "text"
      },
      "source": [
        "<a href=\"https://colab.research.google.com/github/Fatemehrshd/BasicProgramming/blob/main/signRemind.ipynb\" target=\"_parent\"><img src=\"https://colab.research.google.com/assets/colab-badge.svg\" alt=\"Open In Colab\"/></a>"
      ]
    },
    {
      "cell_type": "code",
      "execution_count": 13,
      "metadata": {
        "colab": {
          "base_uri": "https://localhost:8080/"
        },
        "id": "RqSb7fvgyRLg",
        "outputId": "99e80ed2-7049-4cb1-9001-0af7a4f9db16"
      },
      "outputs": [
        {
          "output_type": "stream",
          "name": "stdout",
          "text": [
            "13 -3\n",
            "c:  13\n",
            "c:  10\n",
            "c:  7\n",
            "c:  4\n",
            "c:  1\n",
            "Reminder:  -2\n"
          ]
        }
      ],
      "source": [
        "def signRemind(a, b):\n",
        "  c = a\n",
        "  if a <= 0 and b <= 0:\n",
        "    while c < b:\n",
        "      c -= b\n",
        "    \n",
        "  elif a >= 0 and b >= 0:\n",
        "    while c > b:\n",
        "      c -= b\n",
        "  elif a >= 0 and b <= 0:\n",
        "    while c > b and c > 0:\n",
        "      c += b\n",
        "  else:\n",
        "    while c < b and c < 0:\n",
        "      c += b\n",
        "  return c\n",
        "\n",
        "num1, num2 = map(int, input().split())\n",
        "print(\"Reminder: \", signRemind(num1, num2))"
      ]
    },
    {
      "cell_type": "code",
      "source": [],
      "metadata": {
        "id": "_qVu1zNXzG-b"
      },
      "execution_count": null,
      "outputs": []
    }
  ]
}