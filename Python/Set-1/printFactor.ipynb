{
  "nbformat": 4,
  "nbformat_minor": 0,
  "metadata": {
    "colab": {
      "provenance": [],
      "collapsed_sections": [],
      "authorship_tag": "ABX9TyM+9CR23qpDic561VW3LP49",
      "include_colab_link": true
    },
    "kernelspec": {
      "name": "python3",
      "display_name": "Python 3"
    },
    "language_info": {
      "name": "python"
    }
  },
  "cells": [
    {
      "cell_type": "markdown",
      "metadata": {
        "id": "view-in-github",
        "colab_type": "text"
      },
      "source": [
        "<a href=\"https://colab.research.google.com/github/Fatemehrshd/BasicProgramming/blob/main/printFactor.ipynb\" target=\"_parent\"><img src=\"https://colab.research.google.com/assets/colab-badge.svg\" alt=\"Open In Colab\"/></a>"
      ]
    },
    {
      "cell_type": "code",
      "execution_count": 1,
      "metadata": {
        "colab": {
          "base_uri": "https://localhost:8080/"
        },
        "id": "k1MMVYKW4MUJ",
        "outputId": "9b37ea18-57dd-47de-940c-ed273d93f4ae"
      },
      "outputs": [
        {
          "output_type": "stream",
          "name": "stdout",
          "text": [
            "0 20 2 3\n",
            "6\n",
            "12\n",
            "18\n"
          ]
        }
      ],
      "source": [
        "def printFactor(a, b, c, d):\n",
        "  for num in range(a+1, b):\n",
        "    if num%c == 0 and num %d == 0:\n",
        "      print(num)\n",
        "\n",
        "a, b, c, d = map(int, input().split())\n",
        "printFactor(a, b, c, d)"
      ]
    }
  ]
}
