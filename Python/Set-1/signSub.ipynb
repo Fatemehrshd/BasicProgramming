{
  "nbformat": 4,
  "nbformat_minor": 0,
  "metadata": {
    "colab": {
      "provenance": [],
      "authorship_tag": "ABX9TyPfNiFbiLl5SDjVAusOLORb",
      "include_colab_link": true
    },
    "kernelspec": {
      "name": "python3",
      "display_name": "Python 3"
    },
    "language_info": {
      "name": "python"
    }
  },
  "cells": [
    {
      "cell_type": "markdown",
      "metadata": {
        "id": "view-in-github",
        "colab_type": "text"
      },
      "source": [
        "<a href=\"https://colab.research.google.com/github/Fatemehrshd/BasicProgramming/blob/main/signSub.ipynb\" target=\"_parent\"><img src=\"https://colab.research.google.com/assets/colab-badge.svg\" alt=\"Open In Colab\"/></a>"
      ]
    },
    {
      "cell_type": "code",
      "execution_count": 2,
      "metadata": {
        "colab": {
          "base_uri": "https://localhost:8080/"
        },
        "id": "j6tveBk0x0b3",
        "outputId": "d777dc0c-1be4-44a3-d47a-808eb1abcf3b"
      },
      "outputs": [
        {
          "output_type": "stream",
          "name": "stdout",
          "text": [
            "-100 20\n",
            "num1 - num2:  -120\n"
          ]
        }
      ],
      "source": [
        "# Calculate a-b without using minus operator\n",
        "def signSub(a, b):\n",
        "    c, d = a, b\n",
        "    while d != 0:\n",
        "        if (a >= 0 and b >= 0) or (a <= 0 and b >= 0):\n",
        "            c -= 1\n",
        "            d -= 1\n",
        "        else:\n",
        "            c += 1\n",
        "            d += 1\n",
        "    return c\n",
        "            \n",
        "num1, num2 = map(int, input().split())\n",
        "print(\"num1 - num2: \", signSub(num1, num2))"
      ]
    }
  ]
}
