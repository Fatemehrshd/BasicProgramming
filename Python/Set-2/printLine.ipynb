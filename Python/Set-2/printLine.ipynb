{
  "nbformat": 4,
  "nbformat_minor": 0,
  "metadata": {
    "colab": {
      "provenance": [],
      "authorship_tag": "ABX9TyNrVT1coB8FMbzCITCAT2Go",
      "include_colab_link": true
    },
    "kernelspec": {
      "name": "python3",
      "display_name": "Python 3"
    },
    "language_info": {
      "name": "python"
    }
  },
  "cells": [
    {
      "cell_type": "markdown",
      "metadata": {
        "id": "view-in-github",
        "colab_type": "text"
      },
      "source": [
        "<a href=\"https://colab.research.google.com/github/Fatemehrshd/BasicProgramming/blob/main/printLine.ipynb\" target=\"_parent\"><img src=\"https://colab.research.google.com/assets/colab-badge.svg\" alt=\"Open In Colab\"/></a>"
      ]
    },
    {
      "cell_type": "code",
      "execution_count": 5,
      "metadata": {
        "colab": {
          "base_uri": "https://localhost:8080/"
        },
        "id": "7iFkHebvAJ6y",
        "outputId": "3db6a84e-c674-4ef1-f0c8-b0e8183792db"
      },
      "outputs": [
        {
          "output_type": "stream",
          "name": "stdout",
          "text": [
            "3 5 *\n",
            "*****\n",
            "****\n",
            "***\n"
          ]
        }
      ],
      "source": [
        "def printLine(a, b, c):\n",
        "  for row in range(0, a):\n",
        "    print(c * b)\n",
        "    b -= 1\n",
        "\n",
        "row, col, char = input().split()\n",
        "row = int(row)\n",
        "col = int(col)\n",
        "printLine(row, col, char)"
      ]
    }
  ]
}
