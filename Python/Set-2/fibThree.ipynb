{
  "nbformat": 4,
  "nbformat_minor": 0,
  "metadata": {
    "colab": {
      "provenance": [],
      "authorship_tag": "ABX9TyPZ3Ofz05NGrqKOKbUyZCsV",
      "include_colab_link": true
    },
    "kernelspec": {
      "name": "python3",
      "display_name": "Python 3"
    },
    "language_info": {
      "name": "python"
    }
  },
  "cells": [
    {
      "cell_type": "markdown",
      "metadata": {
        "id": "view-in-github",
        "colab_type": "text"
      },
      "source": [
        "<a href=\"https://colab.research.google.com/github/Fatemehrshd/BasicProgramming/blob/main/fibThree.ipynb\" target=\"_parent\"><img src=\"https://colab.research.google.com/assets/colab-badge.svg\" alt=\"Open In Colab\"/></a>"
      ]
    },
    {
      "cell_type": "code",
      "execution_count": 7,
      "metadata": {
        "colab": {
          "base_uri": "https://localhost:8080/"
        },
        "id": "R1tq0g7q5Zpy",
        "outputId": "91451879-c687-4ec4-ecb1-358cae6e0b73"
      },
      "outputs": [
        {
          "output_type": "stream",
          "name": "stdout",
          "text": [
            "10\n",
            "81\n"
          ]
        }
      ],
      "source": [
        "# Compute the a_th fibThree number\n",
        "def fibThree(a):\n",
        "  first = 0\n",
        "  second = 1\n",
        "  third = 1\n",
        "  index = 3\n",
        "  while index != a:\n",
        "    fourth = first + second + third\n",
        "    first = second\n",
        "    second = third\n",
        "    third = fourth\n",
        "    index += 1\n",
        "  return third\n",
        "\n",
        "n = int(input())\n",
        "print(fibThree(n))"
      ]
    }
  ]
}
