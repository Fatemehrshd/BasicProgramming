{
  "nbformat": 4,
  "nbformat_minor": 0,
  "metadata": {
    "colab": {
      "provenance": [],
      "authorship_tag": "ABX9TyMDVbe/XJg/+zqaZeiiRcVz",
      "include_colab_link": true
    },
    "kernelspec": {
      "name": "python3",
      "display_name": "Python 3"
    },
    "language_info": {
      "name": "python"
    }
  },
  "cells": [
    {
      "cell_type": "markdown",
      "metadata": {
        "id": "view-in-github",
        "colab_type": "text"
      },
      "source": [
        "<a href=\"https://colab.research.google.com/github/Fatemehrshd/BasicProgramming/blob/main/signCompare.ipynb\" target=\"_parent\"><img src=\"https://colab.research.google.com/assets/colab-badge.svg\" alt=\"Open In Colab\"/></a>"
      ]
    },
    {
      "cell_type": "code",
      "execution_count": 2,
      "metadata": {
        "colab": {
          "base_uri": "https://localhost:8080/"
        },
        "id": "QzXbUBGsxD49",
        "outputId": "f77cfc3f-4447-40cb-e517-daaed8d21f84"
      },
      "outputs": [
        {
          "output_type": "stream",
          "name": "stdout",
          "text": [
            "100 2\n",
            "Max:  100\n"
          ]
        }
      ],
      "source": [
        "# Get num1 & num2 from user and return the\n",
        "# greater one.\n",
        "def signCompare(a, b):\n",
        "    c = a - b\n",
        "    if c >= 0:\n",
        "        return a\n",
        "    else:\n",
        "        return b\n",
        "\n",
        "num1, num2 =map(int, input().split())\n",
        "print(\"Max: \", signCompare(num1, num2))"
      ]
    }
  ]
}
