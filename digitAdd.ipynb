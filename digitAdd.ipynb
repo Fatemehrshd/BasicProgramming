{
  "nbformat": 4,
  "nbformat_minor": 0,
  "metadata": {
    "colab": {
      "provenance": [],
      "authorship_tag": "ABX9TyO8K5wKsgDFILpowO3nPMXO",
      "include_colab_link": true
    },
    "kernelspec": {
      "name": "python3",
      "display_name": "Python 3"
    },
    "language_info": {
      "name": "python"
    }
  },
  "cells": [
    {
      "cell_type": "markdown",
      "metadata": {
        "id": "view-in-github",
        "colab_type": "text"
      },
      "source": [
        "<a href=\"https://colab.research.google.com/github/Fatemehrshd/BasicProgramming/blob/main/digitAdd.ipynb\" target=\"_parent\"><img src=\"https://colab.research.google.com/assets/colab-badge.svg\" alt=\"Open In Colab\"/></a>"
      ]
    },
    {
      "cell_type": "code",
      "execution_count": 4,
      "metadata": {
        "colab": {
          "base_uri": "https://localhost:8080/"
        },
        "id": "vb86RxbW90Dk",
        "outputId": "5eca6695-f6f4-4e3f-e388-4f64b73ec138"
      },
      "outputs": [
        {
          "output_type": "stream",
          "name": "stdout",
          "text": [
            "245\n",
            "2\n"
          ]
        }
      ],
      "source": [
        "def digitAdd(a):\n",
        "  sum = 0\n",
        "  while a // 10 != 0:\n",
        "    sum = 0\n",
        "    while a != 0:\n",
        "      sum = sum + a % 10\n",
        "      a //= 10\n",
        "    a = sum\n",
        "  return a\n",
        "\n",
        "n = int(input())\n",
        "print(digitAdd(n))"
      ]
    },
    {
      "cell_type": "code",
      "source": [],
      "metadata": {
        "id": "pZJp6hWI_5OG"
      },
      "execution_count": 2,
      "outputs": []
    }
  ]
}